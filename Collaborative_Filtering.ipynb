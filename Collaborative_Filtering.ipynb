{
  "nbformat": 4,
  "nbformat_minor": 0,
  "metadata": {
    "colab": {
      "provenance": []
    },
    "kernelspec": {
      "name": "python3",
      "display_name": "Python 3"
    },
    "language_info": {
      "name": "python"
    }
  },
  "cells": [
    {
      "cell_type": "markdown",
      "source": [
        "#**COLLABORATIVE FILTERING**\n",
        "\n"
      ],
      "metadata": {
        "id": "VkFuaWZHYv8m"
      }
    },
    {
      "cell_type": "markdown",
      "source": [
        "#1. **Data Loading**"
      ],
      "metadata": {
        "id": "3l48h0_9UJJM"
      }
    },
    {
      "cell_type": "code",
      "execution_count": null,
      "metadata": {
        "colab": {
          "base_uri": "https://localhost:8080/"
        },
        "id": "fY34vZe48qIP",
        "outputId": "b3c7bafe-01e0-40a4-fc04-abfc2739b381"
      },
      "outputs": [
        {
          "output_type": "stream",
          "name": "stdout",
          "text": [
            "Mounted at /content/gdrive\n"
          ]
        }
      ],
      "source": [
        "from google.colab import drive\n",
        "drive.mount('/content/gdrive')"
      ]
    },
    {
      "cell_type": "code",
      "source": [
        "%cd '/content/gdrive/MyDrive/Travelee'"
      ],
      "metadata": {
        "colab": {
          "base_uri": "https://localhost:8080/"
        },
        "id": "CBoyWZUw9jPa",
        "outputId": "c1146166-ac3d-400c-f95f-33245ac567e7"
      },
      "execution_count": null,
      "outputs": [
        {
          "output_type": "stream",
          "name": "stdout",
          "text": [
            "/content/gdrive/.shortcut-targets-by-id/1KbFx6cgumQdIlBDxnOJK2fA3fhAODDuo/Travelee's Drawer\n"
          ]
        }
      ]
    },
    {
      "cell_type": "markdown",
      "source": [
        "#2. **Data Understanding**"
      ],
      "metadata": {
        "id": "MI1xH8-2Ufri"
      }
    },
    {
      "cell_type": "markdown",
      "source": [
        "#2.1. Jumlah Data"
      ],
      "metadata": {
        "id": "WfD-ho5jU7mv"
      }
    },
    {
      "cell_type": "code",
      "source": [
        "pip install pandas"
      ],
      "metadata": {
        "colab": {
          "base_uri": "https://localhost:8080/"
        },
        "id": "C3Jc-obp-Rzd",
        "outputId": "f96a6314-3e48-4466-8073-6a473011427f"
      },
      "execution_count": null,
      "outputs": [
        {
          "output_type": "stream",
          "name": "stdout",
          "text": [
            "Looking in indexes: https://pypi.org/simple, https://us-python.pkg.dev/colab-wheels/public/simple/\n",
            "Requirement already satisfied: pandas in /usr/local/lib/python3.10/dist-packages (1.5.3)\n",
            "Requirement already satisfied: python-dateutil>=2.8.1 in /usr/local/lib/python3.10/dist-packages (from pandas) (2.8.2)\n",
            "Requirement already satisfied: pytz>=2020.1 in /usr/local/lib/python3.10/dist-packages (from pandas) (2022.7.1)\n",
            "Requirement already satisfied: numpy>=1.21.0 in /usr/local/lib/python3.10/dist-packages (from pandas) (1.22.4)\n",
            "Requirement already satisfied: six>=1.5 in /usr/local/lib/python3.10/dist-packages (from python-dateutil>=2.8.1->pandas) (1.16.0)\n"
          ]
        }
      ]
    },
    {
      "cell_type": "code",
      "source": [
        "import pandas as pd\n",
        "eco_place = pd.read_csv('eco_place.csv')\n",
        "eco_rating = pd.read_csv('eco_rating.csv')\n",
        "\n",
        "print('Jumlah places: ', len(eco_place.place_id.unique()))\n",
        "print('Jumlah ratings: ', len(eco_rating.user_rating))"
      ],
      "metadata": {
        "id": "bf12amHM9sT_",
        "colab": {
          "base_uri": "https://localhost:8080/"
        },
        "outputId": "20090d41-0acc-4eed-b523-851def7eac8b"
      },
      "execution_count": null,
      "outputs": [
        {
          "output_type": "stream",
          "name": "stdout",
          "text": [
            "Jumlah places:  182\n",
            "Jumlah ratings:  849\n"
          ]
        }
      ]
    },
    {
      "cell_type": "markdown",
      "source": [
        "#2.2. Exploratory Data Analysis"
      ],
      "metadata": {
        "id": "X0Vh5si8U51V"
      }
    },
    {
      "cell_type": "code",
      "source": [
        "eco_rating.info()"
      ],
      "metadata": {
        "colab": {
          "base_uri": "https://localhost:8080/"
        },
        "id": "rK6UG-AZkehC",
        "outputId": "e030e4c7-f4d5-4055-fcb0-31032e2e9db5"
      },
      "execution_count": null,
      "outputs": [
        {
          "output_type": "stream",
          "name": "stdout",
          "text": [
            "<class 'pandas.core.frame.DataFrame'>\n",
            "RangeIndex: 849 entries, 0 to 848\n",
            "Data columns (total 3 columns):\n",
            " #   Column       Non-Null Count  Dtype\n",
            "---  ------       --------------  -----\n",
            " 0   user_id      849 non-null    int64\n",
            " 1   place_id     849 non-null    int64\n",
            " 2   user_rating  849 non-null    int64\n",
            "dtypes: int64(3)\n",
            "memory usage: 20.0 KB\n"
          ]
        }
      ]
    },
    {
      "cell_type": "code",
      "source": [
        "eco_rating.head()"
      ],
      "metadata": {
        "colab": {
          "base_uri": "https://localhost:8080/",
          "height": 206
        },
        "id": "_-FPye3kkgqN",
        "outputId": "3a73c81b-cf6b-4e55-e075-8325a5007a39"
      },
      "execution_count": null,
      "outputs": [
        {
          "output_type": "execute_result",
          "data": {
            "text/plain": [
              "   user_id  place_id  user_rating\n",
              "0        1        28            2\n",
              "1        1        86            4\n",
              "2        1        94            4\n",
              "3        1       146            3\n",
              "4        2        17            2"
            ],
            "text/html": [
              "\n",
              "  <div id=\"df-4d95505d-03e6-4208-9043-e3312bb2d259\">\n",
              "    <div class=\"colab-df-container\">\n",
              "      <div>\n",
              "<style scoped>\n",
              "    .dataframe tbody tr th:only-of-type {\n",
              "        vertical-align: middle;\n",
              "    }\n",
              "\n",
              "    .dataframe tbody tr th {\n",
              "        vertical-align: top;\n",
              "    }\n",
              "\n",
              "    .dataframe thead th {\n",
              "        text-align: right;\n",
              "    }\n",
              "</style>\n",
              "<table border=\"1\" class=\"dataframe\">\n",
              "  <thead>\n",
              "    <tr style=\"text-align: right;\">\n",
              "      <th></th>\n",
              "      <th>user_id</th>\n",
              "      <th>place_id</th>\n",
              "      <th>user_rating</th>\n",
              "    </tr>\n",
              "  </thead>\n",
              "  <tbody>\n",
              "    <tr>\n",
              "      <th>0</th>\n",
              "      <td>1</td>\n",
              "      <td>28</td>\n",
              "      <td>2</td>\n",
              "    </tr>\n",
              "    <tr>\n",
              "      <th>1</th>\n",
              "      <td>1</td>\n",
              "      <td>86</td>\n",
              "      <td>4</td>\n",
              "    </tr>\n",
              "    <tr>\n",
              "      <th>2</th>\n",
              "      <td>1</td>\n",
              "      <td>94</td>\n",
              "      <td>4</td>\n",
              "    </tr>\n",
              "    <tr>\n",
              "      <th>3</th>\n",
              "      <td>1</td>\n",
              "      <td>146</td>\n",
              "      <td>3</td>\n",
              "    </tr>\n",
              "    <tr>\n",
              "      <th>4</th>\n",
              "      <td>2</td>\n",
              "      <td>17</td>\n",
              "      <td>2</td>\n",
              "    </tr>\n",
              "  </tbody>\n",
              "</table>\n",
              "</div>\n",
              "      <button class=\"colab-df-convert\" onclick=\"convertToInteractive('df-4d95505d-03e6-4208-9043-e3312bb2d259')\"\n",
              "              title=\"Convert this dataframe to an interactive table.\"\n",
              "              style=\"display:none;\">\n",
              "        \n",
              "  <svg xmlns=\"http://www.w3.org/2000/svg\" height=\"24px\"viewBox=\"0 0 24 24\"\n",
              "       width=\"24px\">\n",
              "    <path d=\"M0 0h24v24H0V0z\" fill=\"none\"/>\n",
              "    <path d=\"M18.56 5.44l.94 2.06.94-2.06 2.06-.94-2.06-.94-.94-2.06-.94 2.06-2.06.94zm-11 1L8.5 8.5l.94-2.06 2.06-.94-2.06-.94L8.5 2.5l-.94 2.06-2.06.94zm10 10l.94 2.06.94-2.06 2.06-.94-2.06-.94-.94-2.06-.94 2.06-2.06.94z\"/><path d=\"M17.41 7.96l-1.37-1.37c-.4-.4-.92-.59-1.43-.59-.52 0-1.04.2-1.43.59L10.3 9.45l-7.72 7.72c-.78.78-.78 2.05 0 2.83L4 21.41c.39.39.9.59 1.41.59.51 0 1.02-.2 1.41-.59l7.78-7.78 2.81-2.81c.8-.78.8-2.07 0-2.86zM5.41 20L4 18.59l7.72-7.72 1.47 1.35L5.41 20z\"/>\n",
              "  </svg>\n",
              "      </button>\n",
              "      \n",
              "  <style>\n",
              "    .colab-df-container {\n",
              "      display:flex;\n",
              "      flex-wrap:wrap;\n",
              "      gap: 12px;\n",
              "    }\n",
              "\n",
              "    .colab-df-convert {\n",
              "      background-color: #E8F0FE;\n",
              "      border: none;\n",
              "      border-radius: 50%;\n",
              "      cursor: pointer;\n",
              "      display: none;\n",
              "      fill: #1967D2;\n",
              "      height: 32px;\n",
              "      padding: 0 0 0 0;\n",
              "      width: 32px;\n",
              "    }\n",
              "\n",
              "    .colab-df-convert:hover {\n",
              "      background-color: #E2EBFA;\n",
              "      box-shadow: 0px 1px 2px rgba(60, 64, 67, 0.3), 0px 1px 3px 1px rgba(60, 64, 67, 0.15);\n",
              "      fill: #174EA6;\n",
              "    }\n",
              "\n",
              "    [theme=dark] .colab-df-convert {\n",
              "      background-color: #3B4455;\n",
              "      fill: #D2E3FC;\n",
              "    }\n",
              "\n",
              "    [theme=dark] .colab-df-convert:hover {\n",
              "      background-color: #434B5C;\n",
              "      box-shadow: 0px 1px 3px 1px rgba(0, 0, 0, 0.15);\n",
              "      filter: drop-shadow(0px 1px 2px rgba(0, 0, 0, 0.3));\n",
              "      fill: #FFFFFF;\n",
              "    }\n",
              "  </style>\n",
              "\n",
              "      <script>\n",
              "        const buttonEl =\n",
              "          document.querySelector('#df-4d95505d-03e6-4208-9043-e3312bb2d259 button.colab-df-convert');\n",
              "        buttonEl.style.display =\n",
              "          google.colab.kernel.accessAllowed ? 'block' : 'none';\n",
              "\n",
              "        async function convertToInteractive(key) {\n",
              "          const element = document.querySelector('#df-4d95505d-03e6-4208-9043-e3312bb2d259');\n",
              "          const dataTable =\n",
              "            await google.colab.kernel.invokeFunction('convertToInteractive',\n",
              "                                                     [key], {});\n",
              "          if (!dataTable) return;\n",
              "\n",
              "          const docLinkHtml = 'Like what you see? Visit the ' +\n",
              "            '<a target=\"_blank\" href=https://colab.research.google.com/notebooks/data_table.ipynb>data table notebook</a>'\n",
              "            + ' to learn more about interactive tables.';\n",
              "          element.innerHTML = '';\n",
              "          dataTable['output_type'] = 'display_data';\n",
              "          await google.colab.output.renderOutput(dataTable, element);\n",
              "          const docLink = document.createElement('div');\n",
              "          docLink.innerHTML = docLinkHtml;\n",
              "          element.appendChild(docLink);\n",
              "        }\n",
              "      </script>\n",
              "    </div>\n",
              "  </div>\n",
              "  "
            ]
          },
          "metadata": {},
          "execution_count": 6
        }
      ]
    },
    {
      "cell_type": "code",
      "source": [
        "eco_rating.describe()"
      ],
      "metadata": {
        "colab": {
          "base_uri": "https://localhost:8080/",
          "height": 300
        },
        "id": "Tf8vnMVKkkkm",
        "outputId": "47a89530-da43-4257-d3d3-b1153b2b1ca2"
      },
      "execution_count": null,
      "outputs": [
        {
          "output_type": "execute_result",
          "data": {
            "text/plain": [
              "          user_id    place_id  user_rating\n",
              "count  849.000000  849.000000   849.000000\n",
              "mean    77.792697   89.064782     3.507656\n",
              "std     44.226709   53.242054     0.948062\n",
              "min      1.000000    2.000000     2.000000\n",
              "25%     41.000000   43.000000     3.000000\n",
              "50%     77.000000   87.000000     4.000000\n",
              "75%    115.000000  134.000000     4.000000\n",
              "max    156.000000  183.000000     5.000000"
            ],
            "text/html": [
              "\n",
              "  <div id=\"df-8d65ac1a-c9af-4b6b-9068-57383f1c0f4c\">\n",
              "    <div class=\"colab-df-container\">\n",
              "      <div>\n",
              "<style scoped>\n",
              "    .dataframe tbody tr th:only-of-type {\n",
              "        vertical-align: middle;\n",
              "    }\n",
              "\n",
              "    .dataframe tbody tr th {\n",
              "        vertical-align: top;\n",
              "    }\n",
              "\n",
              "    .dataframe thead th {\n",
              "        text-align: right;\n",
              "    }\n",
              "</style>\n",
              "<table border=\"1\" class=\"dataframe\">\n",
              "  <thead>\n",
              "    <tr style=\"text-align: right;\">\n",
              "      <th></th>\n",
              "      <th>user_id</th>\n",
              "      <th>place_id</th>\n",
              "      <th>user_rating</th>\n",
              "    </tr>\n",
              "  </thead>\n",
              "  <tbody>\n",
              "    <tr>\n",
              "      <th>count</th>\n",
              "      <td>849.000000</td>\n",
              "      <td>849.000000</td>\n",
              "      <td>849.000000</td>\n",
              "    </tr>\n",
              "    <tr>\n",
              "      <th>mean</th>\n",
              "      <td>77.792697</td>\n",
              "      <td>89.064782</td>\n",
              "      <td>3.507656</td>\n",
              "    </tr>\n",
              "    <tr>\n",
              "      <th>std</th>\n",
              "      <td>44.226709</td>\n",
              "      <td>53.242054</td>\n",
              "      <td>0.948062</td>\n",
              "    </tr>\n",
              "    <tr>\n",
              "      <th>min</th>\n",
              "      <td>1.000000</td>\n",
              "      <td>2.000000</td>\n",
              "      <td>2.000000</td>\n",
              "    </tr>\n",
              "    <tr>\n",
              "      <th>25%</th>\n",
              "      <td>41.000000</td>\n",
              "      <td>43.000000</td>\n",
              "      <td>3.000000</td>\n",
              "    </tr>\n",
              "    <tr>\n",
              "      <th>50%</th>\n",
              "      <td>77.000000</td>\n",
              "      <td>87.000000</td>\n",
              "      <td>4.000000</td>\n",
              "    </tr>\n",
              "    <tr>\n",
              "      <th>75%</th>\n",
              "      <td>115.000000</td>\n",
              "      <td>134.000000</td>\n",
              "      <td>4.000000</td>\n",
              "    </tr>\n",
              "    <tr>\n",
              "      <th>max</th>\n",
              "      <td>156.000000</td>\n",
              "      <td>183.000000</td>\n",
              "      <td>5.000000</td>\n",
              "    </tr>\n",
              "  </tbody>\n",
              "</table>\n",
              "</div>\n",
              "      <button class=\"colab-df-convert\" onclick=\"convertToInteractive('df-8d65ac1a-c9af-4b6b-9068-57383f1c0f4c')\"\n",
              "              title=\"Convert this dataframe to an interactive table.\"\n",
              "              style=\"display:none;\">\n",
              "        \n",
              "  <svg xmlns=\"http://www.w3.org/2000/svg\" height=\"24px\"viewBox=\"0 0 24 24\"\n",
              "       width=\"24px\">\n",
              "    <path d=\"M0 0h24v24H0V0z\" fill=\"none\"/>\n",
              "    <path d=\"M18.56 5.44l.94 2.06.94-2.06 2.06-.94-2.06-.94-.94-2.06-.94 2.06-2.06.94zm-11 1L8.5 8.5l.94-2.06 2.06-.94-2.06-.94L8.5 2.5l-.94 2.06-2.06.94zm10 10l.94 2.06.94-2.06 2.06-.94-2.06-.94-.94-2.06-.94 2.06-2.06.94z\"/><path d=\"M17.41 7.96l-1.37-1.37c-.4-.4-.92-.59-1.43-.59-.52 0-1.04.2-1.43.59L10.3 9.45l-7.72 7.72c-.78.78-.78 2.05 0 2.83L4 21.41c.39.39.9.59 1.41.59.51 0 1.02-.2 1.41-.59l7.78-7.78 2.81-2.81c.8-.78.8-2.07 0-2.86zM5.41 20L4 18.59l7.72-7.72 1.47 1.35L5.41 20z\"/>\n",
              "  </svg>\n",
              "      </button>\n",
              "      \n",
              "  <style>\n",
              "    .colab-df-container {\n",
              "      display:flex;\n",
              "      flex-wrap:wrap;\n",
              "      gap: 12px;\n",
              "    }\n",
              "\n",
              "    .colab-df-convert {\n",
              "      background-color: #E8F0FE;\n",
              "      border: none;\n",
              "      border-radius: 50%;\n",
              "      cursor: pointer;\n",
              "      display: none;\n",
              "      fill: #1967D2;\n",
              "      height: 32px;\n",
              "      padding: 0 0 0 0;\n",
              "      width: 32px;\n",
              "    }\n",
              "\n",
              "    .colab-df-convert:hover {\n",
              "      background-color: #E2EBFA;\n",
              "      box-shadow: 0px 1px 2px rgba(60, 64, 67, 0.3), 0px 1px 3px 1px rgba(60, 64, 67, 0.15);\n",
              "      fill: #174EA6;\n",
              "    }\n",
              "\n",
              "    [theme=dark] .colab-df-convert {\n",
              "      background-color: #3B4455;\n",
              "      fill: #D2E3FC;\n",
              "    }\n",
              "\n",
              "    [theme=dark] .colab-df-convert:hover {\n",
              "      background-color: #434B5C;\n",
              "      box-shadow: 0px 1px 3px 1px rgba(0, 0, 0, 0.15);\n",
              "      filter: drop-shadow(0px 1px 2px rgba(0, 0, 0, 0.3));\n",
              "      fill: #FFFFFF;\n",
              "    }\n",
              "  </style>\n",
              "\n",
              "      <script>\n",
              "        const buttonEl =\n",
              "          document.querySelector('#df-8d65ac1a-c9af-4b6b-9068-57383f1c0f4c button.colab-df-convert');\n",
              "        buttonEl.style.display =\n",
              "          google.colab.kernel.accessAllowed ? 'block' : 'none';\n",
              "\n",
              "        async function convertToInteractive(key) {\n",
              "          const element = document.querySelector('#df-8d65ac1a-c9af-4b6b-9068-57383f1c0f4c');\n",
              "          const dataTable =\n",
              "            await google.colab.kernel.invokeFunction('convertToInteractive',\n",
              "                                                     [key], {});\n",
              "          if (!dataTable) return;\n",
              "\n",
              "          const docLinkHtml = 'Like what you see? Visit the ' +\n",
              "            '<a target=\"_blank\" href=https://colab.research.google.com/notebooks/data_table.ipynb>data table notebook</a>'\n",
              "            + ' to learn more about interactive tables.';\n",
              "          element.innerHTML = '';\n",
              "          dataTable['output_type'] = 'display_data';\n",
              "          await google.colab.output.renderOutput(dataTable, element);\n",
              "          const docLink = document.createElement('div');\n",
              "          docLink.innerHTML = docLinkHtml;\n",
              "          element.appendChild(docLink);\n",
              "        }\n",
              "      </script>\n",
              "    </div>\n",
              "  </div>\n",
              "  "
            ]
          },
          "metadata": {},
          "execution_count": 7
        }
      ]
    },
    {
      "cell_type": "markdown",
      "source": [
        "#3. **Data Preparation**"
      ],
      "metadata": {
        "id": "BBvLqfUeWHdn"
      }
    },
    {
      "cell_type": "code",
      "source": [
        "eco_rating.isnull().sum()"
      ],
      "metadata": {
        "colab": {
          "base_uri": "https://localhost:8080/"
        },
        "id": "vpxASSTNJdsu",
        "outputId": "b27d4785-9273-427f-84fb-2a3790463a57"
      },
      "execution_count": null,
      "outputs": [
        {
          "output_type": "execute_result",
          "data": {
            "text/plain": [
              "user_id        0\n",
              "place_id       0\n",
              "user_rating    0\n",
              "dtype: int64"
            ]
          },
          "metadata": {},
          "execution_count": 8
        }
      ]
    },
    {
      "cell_type": "code",
      "source": [
        "eco_rating = eco_rating.drop_duplicates()"
      ],
      "metadata": {
        "id": "YPfsW0qNRWuy"
      },
      "execution_count": null,
      "outputs": []
    },
    {
      "cell_type": "code",
      "source": [
        "print(f'Jumlah data eco_rating yang duplikat: {eco_rating.duplicated().sum()}')"
      ],
      "metadata": {
        "colab": {
          "base_uri": "https://localhost:8080/"
        },
        "id": "B8t_YYV9Jrxu",
        "outputId": "2c120044-0bea-4215-ccb6-c921c650ae1e"
      },
      "execution_count": null,
      "outputs": [
        {
          "output_type": "stream",
          "name": "stdout",
          "text": [
            "Jumlah data eco_rating yang duplikat: 0\n"
          ]
        }
      ]
    },
    {
      "cell_type": "markdown",
      "source": [
        "#4. **MODEL DEVELOPMENT DENGAN COLLABORATIVE FILTERING**"
      ],
      "metadata": {
        "id": "G2vJ6ymDWbVC"
      }
    },
    {
      "cell_type": "markdown",
      "source": [
        "## 4.1. Data Preparation"
      ],
      "metadata": {
        "id": "EvxB_fi0Xefx"
      }
    },
    {
      "cell_type": "code",
      "source": [
        "user_id = eco_rating['user_id'].unique().tolist()\n",
        "print('list User_Id: ', user_id)\n",
        "\n",
        "user_to_num_encoded = {x: i for i, x in enumerate(user_id)}\n",
        "print('encoded User_Id : ', user_to_num_encoded)\n",
        "\n",
        "num_encoded_to_user = {i: x for i, x in enumerate(user_id)}\n",
        "print('encoded num to User_Id: ', num_encoded_to_user)"
      ],
      "metadata": {
        "colab": {
          "base_uri": "https://localhost:8080/"
        },
        "id": "m8HYuSmkun9s",
        "outputId": "951ce6ac-1a3a-4111-f87b-e7e10533d62a"
      },
      "execution_count": null,
      "outputs": [
        {
          "output_type": "stream",
          "name": "stdout",
          "text": [
            "list User_Id:  [1, 2, 3, 4, 5, 6, 7, 8, 9, 10, 11, 12, 13, 14, 15, 16, 17, 18, 19, 20, 21, 22, 23, 24, 25, 26, 27, 28, 29, 30, 31, 32, 33, 34, 35, 36, 37, 38, 39, 40, 41, 42, 43, 44, 45, 46, 47, 48, 49, 50, 51, 52, 53, 54, 55, 56, 57, 58, 59, 60, 61, 62, 63, 64, 65, 66, 67, 68, 69, 70, 71, 72, 73, 74, 75, 76, 77, 78, 79, 80, 81, 82, 83, 84, 85, 86, 87, 88, 89, 90, 91, 92, 93, 94, 95, 96, 97, 98, 99, 100, 101, 102, 103, 104, 105, 106, 107, 108, 109, 110, 111, 112, 113, 114, 115, 116, 117, 118, 119, 120, 121, 122, 123, 124, 125, 126, 127, 128, 129, 130, 131, 132, 133, 134, 135, 136, 137, 138, 139, 140, 141, 142, 143, 144, 145, 146, 147, 148, 149, 150, 151, 152, 153, 154, 155, 156]\n",
            "encoded User_Id :  {1: 0, 2: 1, 3: 2, 4: 3, 5: 4, 6: 5, 7: 6, 8: 7, 9: 8, 10: 9, 11: 10, 12: 11, 13: 12, 14: 13, 15: 14, 16: 15, 17: 16, 18: 17, 19: 18, 20: 19, 21: 20, 22: 21, 23: 22, 24: 23, 25: 24, 26: 25, 27: 26, 28: 27, 29: 28, 30: 29, 31: 30, 32: 31, 33: 32, 34: 33, 35: 34, 36: 35, 37: 36, 38: 37, 39: 38, 40: 39, 41: 40, 42: 41, 43: 42, 44: 43, 45: 44, 46: 45, 47: 46, 48: 47, 49: 48, 50: 49, 51: 50, 52: 51, 53: 52, 54: 53, 55: 54, 56: 55, 57: 56, 58: 57, 59: 58, 60: 59, 61: 60, 62: 61, 63: 62, 64: 63, 65: 64, 66: 65, 67: 66, 68: 67, 69: 68, 70: 69, 71: 70, 72: 71, 73: 72, 74: 73, 75: 74, 76: 75, 77: 76, 78: 77, 79: 78, 80: 79, 81: 80, 82: 81, 83: 82, 84: 83, 85: 84, 86: 85, 87: 86, 88: 87, 89: 88, 90: 89, 91: 90, 92: 91, 93: 92, 94: 93, 95: 94, 96: 95, 97: 96, 98: 97, 99: 98, 100: 99, 101: 100, 102: 101, 103: 102, 104: 103, 105: 104, 106: 105, 107: 106, 108: 107, 109: 108, 110: 109, 111: 110, 112: 111, 113: 112, 114: 113, 115: 114, 116: 115, 117: 116, 118: 117, 119: 118, 120: 119, 121: 120, 122: 121, 123: 122, 124: 123, 125: 124, 126: 125, 127: 126, 128: 127, 129: 128, 130: 129, 131: 130, 132: 131, 133: 132, 134: 133, 135: 134, 136: 135, 137: 136, 138: 137, 139: 138, 140: 139, 141: 140, 142: 141, 143: 142, 144: 143, 145: 144, 146: 145, 147: 146, 148: 147, 149: 148, 150: 149, 151: 150, 152: 151, 153: 152, 154: 153, 155: 154, 156: 155}\n",
            "encoded num to User_Id:  {0: 1, 1: 2, 2: 3, 3: 4, 4: 5, 5: 6, 6: 7, 7: 8, 8: 9, 9: 10, 10: 11, 11: 12, 12: 13, 13: 14, 14: 15, 15: 16, 16: 17, 17: 18, 18: 19, 19: 20, 20: 21, 21: 22, 22: 23, 23: 24, 24: 25, 25: 26, 26: 27, 27: 28, 28: 29, 29: 30, 30: 31, 31: 32, 32: 33, 33: 34, 34: 35, 35: 36, 36: 37, 37: 38, 38: 39, 39: 40, 40: 41, 41: 42, 42: 43, 43: 44, 44: 45, 45: 46, 46: 47, 47: 48, 48: 49, 49: 50, 50: 51, 51: 52, 52: 53, 53: 54, 54: 55, 55: 56, 56: 57, 57: 58, 58: 59, 59: 60, 60: 61, 61: 62, 62: 63, 63: 64, 64: 65, 65: 66, 66: 67, 67: 68, 68: 69, 69: 70, 70: 71, 71: 72, 72: 73, 73: 74, 74: 75, 75: 76, 76: 77, 77: 78, 78: 79, 79: 80, 80: 81, 81: 82, 82: 83, 83: 84, 84: 85, 85: 86, 86: 87, 87: 88, 88: 89, 89: 90, 90: 91, 91: 92, 92: 93, 93: 94, 94: 95, 95: 96, 96: 97, 97: 98, 98: 99, 99: 100, 100: 101, 101: 102, 102: 103, 103: 104, 104: 105, 105: 106, 106: 107, 107: 108, 108: 109, 109: 110, 110: 111, 111: 112, 112: 113, 113: 114, 114: 115, 115: 116, 116: 117, 117: 118, 118: 119, 119: 120, 120: 121, 121: 122, 122: 123, 123: 124, 124: 125, 125: 126, 126: 127, 127: 128, 128: 129, 129: 130, 130: 131, 131: 132, 132: 133, 133: 134, 134: 135, 135: 136, 136: 137, 137: 138, 138: 139, 139: 140, 140: 141, 141: 142, 142: 143, 143: 144, 144: 145, 145: 146, 146: 147, 147: 148, 148: 149, 149: 150, 150: 151, 151: 152, 152: 153, 153: 154, 154: 155, 155: 156}\n"
          ]
        }
      ]
    },
    {
      "cell_type": "code",
      "source": [
        "places_id = eco_rating['place_id'].unique().tolist()\n",
        "print('list places_id: ', places_id)\n",
        "\n",
        "place_to_num_encoded = {x: i for i, x in enumerate(places_id)}\n",
        "print('encoded places_id : ', place_to_num_encoded)\n",
        "\n",
        "num_encoded_to_place = {i: x for i, x in enumerate(places_id)}\n",
        "print('encoded num to places_id: ', num_encoded_to_place)"
      ],
      "metadata": {
        "colab": {
          "base_uri": "https://localhost:8080/"
        },
        "id": "xWU90S-8u5PU",
        "outputId": "00c019d9-fe00-4a9b-928f-b9a7928d2bdb"
      },
      "execution_count": null,
      "outputs": [
        {
          "output_type": "stream",
          "name": "stdout",
          "text": [
            "list places_id:  [28, 86, 94, 146, 17, 62, 64, 103, 137, 178, 63, 73, 92, 106, 132, 147, 5, 34, 78, 124, 53, 60, 72, 104, 109, 110, 42, 61, 81, 91, 32, 57, 67, 68, 9, 145, 154, 170, 41, 74, 160, 46, 50, 71, 87, 162, 15, 18, 21, 56, 77, 134, 47, 128, 143, 156, 174, 14, 35, 54, 164, 173, 20, 48, 125, 130, 176, 3, 58, 114, 172, 11, 153, 117, 25, 107, 127, 29, 161, 181, 97, 100, 175, 90, 93, 101, 10, 98, 144, 102, 19, 89, 23, 38, 150, 133, 83, 149, 120, 37, 96, 119, 152, 8, 16, 116, 121, 43, 75, 105, 111, 168, 26, 55, 122, 179, 148, 7, 113, 167, 59, 24, 131, 163, 6, 2, 84, 159, 12, 39, 49, 141, 30, 151, 40, 135, 76, 177, 112, 82, 108, 126, 13, 27, 22, 65, 180, 51, 4, 182, 44, 79, 166, 80, 66, 52, 155, 171, 33, 45, 95, 118, 69, 142, 165, 70, 138, 88, 129, 139, 31, 115, 183, 99, 123, 136, 158, 85, 36, 157, 140, 169]\n",
            "encoded places_id :  {28: 0, 86: 1, 94: 2, 146: 3, 17: 4, 62: 5, 64: 6, 103: 7, 137: 8, 178: 9, 63: 10, 73: 11, 92: 12, 106: 13, 132: 14, 147: 15, 5: 16, 34: 17, 78: 18, 124: 19, 53: 20, 60: 21, 72: 22, 104: 23, 109: 24, 110: 25, 42: 26, 61: 27, 81: 28, 91: 29, 32: 30, 57: 31, 67: 32, 68: 33, 9: 34, 145: 35, 154: 36, 170: 37, 41: 38, 74: 39, 160: 40, 46: 41, 50: 42, 71: 43, 87: 44, 162: 45, 15: 46, 18: 47, 21: 48, 56: 49, 77: 50, 134: 51, 47: 52, 128: 53, 143: 54, 156: 55, 174: 56, 14: 57, 35: 58, 54: 59, 164: 60, 173: 61, 20: 62, 48: 63, 125: 64, 130: 65, 176: 66, 3: 67, 58: 68, 114: 69, 172: 70, 11: 71, 153: 72, 117: 73, 25: 74, 107: 75, 127: 76, 29: 77, 161: 78, 181: 79, 97: 80, 100: 81, 175: 82, 90: 83, 93: 84, 101: 85, 10: 86, 98: 87, 144: 88, 102: 89, 19: 90, 89: 91, 23: 92, 38: 93, 150: 94, 133: 95, 83: 96, 149: 97, 120: 98, 37: 99, 96: 100, 119: 101, 152: 102, 8: 103, 16: 104, 116: 105, 121: 106, 43: 107, 75: 108, 105: 109, 111: 110, 168: 111, 26: 112, 55: 113, 122: 114, 179: 115, 148: 116, 7: 117, 113: 118, 167: 119, 59: 120, 24: 121, 131: 122, 163: 123, 6: 124, 2: 125, 84: 126, 159: 127, 12: 128, 39: 129, 49: 130, 141: 131, 30: 132, 151: 133, 40: 134, 135: 135, 76: 136, 177: 137, 112: 138, 82: 139, 108: 140, 126: 141, 13: 142, 27: 143, 22: 144, 65: 145, 180: 146, 51: 147, 4: 148, 182: 149, 44: 150, 79: 151, 166: 152, 80: 153, 66: 154, 52: 155, 155: 156, 171: 157, 33: 158, 45: 159, 95: 160, 118: 161, 69: 162, 142: 163, 165: 164, 70: 165, 138: 166, 88: 167, 129: 168, 139: 169, 31: 170, 115: 171, 183: 172, 99: 173, 123: 174, 136: 175, 158: 176, 85: 177, 36: 178, 157: 179, 140: 180, 169: 181}\n",
            "encoded num to places_id:  {0: 28, 1: 86, 2: 94, 3: 146, 4: 17, 5: 62, 6: 64, 7: 103, 8: 137, 9: 178, 10: 63, 11: 73, 12: 92, 13: 106, 14: 132, 15: 147, 16: 5, 17: 34, 18: 78, 19: 124, 20: 53, 21: 60, 22: 72, 23: 104, 24: 109, 25: 110, 26: 42, 27: 61, 28: 81, 29: 91, 30: 32, 31: 57, 32: 67, 33: 68, 34: 9, 35: 145, 36: 154, 37: 170, 38: 41, 39: 74, 40: 160, 41: 46, 42: 50, 43: 71, 44: 87, 45: 162, 46: 15, 47: 18, 48: 21, 49: 56, 50: 77, 51: 134, 52: 47, 53: 128, 54: 143, 55: 156, 56: 174, 57: 14, 58: 35, 59: 54, 60: 164, 61: 173, 62: 20, 63: 48, 64: 125, 65: 130, 66: 176, 67: 3, 68: 58, 69: 114, 70: 172, 71: 11, 72: 153, 73: 117, 74: 25, 75: 107, 76: 127, 77: 29, 78: 161, 79: 181, 80: 97, 81: 100, 82: 175, 83: 90, 84: 93, 85: 101, 86: 10, 87: 98, 88: 144, 89: 102, 90: 19, 91: 89, 92: 23, 93: 38, 94: 150, 95: 133, 96: 83, 97: 149, 98: 120, 99: 37, 100: 96, 101: 119, 102: 152, 103: 8, 104: 16, 105: 116, 106: 121, 107: 43, 108: 75, 109: 105, 110: 111, 111: 168, 112: 26, 113: 55, 114: 122, 115: 179, 116: 148, 117: 7, 118: 113, 119: 167, 120: 59, 121: 24, 122: 131, 123: 163, 124: 6, 125: 2, 126: 84, 127: 159, 128: 12, 129: 39, 130: 49, 131: 141, 132: 30, 133: 151, 134: 40, 135: 135, 136: 76, 137: 177, 138: 112, 139: 82, 140: 108, 141: 126, 142: 13, 143: 27, 144: 22, 145: 65, 146: 180, 147: 51, 148: 4, 149: 182, 150: 44, 151: 79, 152: 166, 153: 80, 154: 66, 155: 52, 156: 155, 157: 171, 158: 33, 159: 45, 160: 95, 161: 118, 162: 69, 163: 142, 164: 165, 165: 70, 166: 138, 167: 88, 168: 129, 169: 139, 170: 31, 171: 115, 172: 183, 173: 99, 174: 123, 175: 136, 176: 158, 177: 85, 178: 36, 179: 157, 180: 140, 181: 169}\n"
          ]
        }
      ]
    },
    {
      "cell_type": "code",
      "source": [
        "eco_rating['user'] = eco_rating['user_id'].map(user_to_num_encoded)\n",
        "eco_rating['place'] = eco_rating['place_id'].map(place_to_num_encoded)"
      ],
      "metadata": {
        "id": "5fQg9m85u9XQ"
      },
      "execution_count": null,
      "outputs": []
    },
    {
      "cell_type": "code",
      "source": [
        "pip install numpy"
      ],
      "metadata": {
        "colab": {
          "base_uri": "https://localhost:8080/"
        },
        "id": "socx9TE_u-y8",
        "outputId": "79d2f4f8-7494-4014-d508-911c1b7551dc"
      },
      "execution_count": null,
      "outputs": [
        {
          "output_type": "stream",
          "name": "stdout",
          "text": [
            "Looking in indexes: https://pypi.org/simple, https://us-python.pkg.dev/colab-wheels/public/simple/\n",
            "Requirement already satisfied: numpy in /usr/local/lib/python3.10/dist-packages (1.22.4)\n"
          ]
        }
      ]
    },
    {
      "cell_type": "code",
      "source": [
        "import numpy as np\n",
        "num_users = len(user_to_num_encoded)\n",
        "num_places = len(num_encoded_to_place)\n",
        "\n",
        "eco_rating['rating'] = eco_rating['user_rating'].values.astype(np.float32)\n",
        "\n",
        "min_rating = min(eco_rating['rating'])\n",
        "max_rating = max(eco_rating['rating'])\n",
        "\n",
        "print(f'Number of users: {num_users}')\n",
        "print(f'Number of places: {num_places}')\n",
        "print(f'Min rating: {min_rating}')\n",
        "print(f'Max rating: {max_rating}')"
      ],
      "metadata": {
        "colab": {
          "base_uri": "https://localhost:8080/"
        },
        "id": "tPM9yAX6vC2p",
        "outputId": "14770d76-6106-44d0-aa69-a17a089735c5"
      },
      "execution_count": null,
      "outputs": [
        {
          "output_type": "stream",
          "name": "stdout",
          "text": [
            "Number of users: 156\n",
            "Number of places: 182\n",
            "Min rating: 2.0\n",
            "Max rating: 5.0\n"
          ]
        }
      ]
    },
    {
      "cell_type": "markdown",
      "source": [
        "## 4.2. Split Training Data dan Validation Data"
      ],
      "metadata": {
        "id": "ZmIL8nyovFkQ"
      }
    },
    {
      "cell_type": "code",
      "source": [
        "eco_rating = eco_rating.sample(frac=1, random_state=42)\n",
        "eco_rating"
      ],
      "metadata": {
        "colab": {
          "base_uri": "https://localhost:8080/",
          "height": 423
        },
        "id": "71VTT_QIvP_d",
        "outputId": "53fe727d-6f7a-4c32-d7bc-c1496bcde667"
      },
      "execution_count": null,
      "outputs": [
        {
          "output_type": "execute_result",
          "data": {
            "text/plain": [
              "     user_id  place_id  user_rating  user  place  rating\n",
              "39         7       104            4     6     23     4.0\n",
              "251       48        12            4    47    128     4.0\n",
              "315       58        90            3    57     83     3.0\n",
              "97        19        11            2    18     71     2.0\n",
              "199       39        86            3    38      1     3.0\n",
              "..       ...       ...          ...   ...    ...     ...\n",
              "72        13        81            4    12     28     4.0\n",
              "107       21        93            5    20     84     5.0\n",
              "271       51        20            5    50     62     5.0\n",
              "436       79       105            3    78    109     3.0\n",
              "103       20       100            5    19     81     5.0\n",
              "\n",
              "[846 rows x 6 columns]"
            ],
            "text/html": [
              "\n",
              "  <div id=\"df-8fab6548-10e0-420a-809e-ff5bdfe4e07a\">\n",
              "    <div class=\"colab-df-container\">\n",
              "      <div>\n",
              "<style scoped>\n",
              "    .dataframe tbody tr th:only-of-type {\n",
              "        vertical-align: middle;\n",
              "    }\n",
              "\n",
              "    .dataframe tbody tr th {\n",
              "        vertical-align: top;\n",
              "    }\n",
              "\n",
              "    .dataframe thead th {\n",
              "        text-align: right;\n",
              "    }\n",
              "</style>\n",
              "<table border=\"1\" class=\"dataframe\">\n",
              "  <thead>\n",
              "    <tr style=\"text-align: right;\">\n",
              "      <th></th>\n",
              "      <th>user_id</th>\n",
              "      <th>place_id</th>\n",
              "      <th>user_rating</th>\n",
              "      <th>user</th>\n",
              "      <th>place</th>\n",
              "      <th>rating</th>\n",
              "    </tr>\n",
              "  </thead>\n",
              "  <tbody>\n",
              "    <tr>\n",
              "      <th>39</th>\n",
              "      <td>7</td>\n",
              "      <td>104</td>\n",
              "      <td>4</td>\n",
              "      <td>6</td>\n",
              "      <td>23</td>\n",
              "      <td>4.0</td>\n",
              "    </tr>\n",
              "    <tr>\n",
              "      <th>251</th>\n",
              "      <td>48</td>\n",
              "      <td>12</td>\n",
              "      <td>4</td>\n",
              "      <td>47</td>\n",
              "      <td>128</td>\n",
              "      <td>4.0</td>\n",
              "    </tr>\n",
              "    <tr>\n",
              "      <th>315</th>\n",
              "      <td>58</td>\n",
              "      <td>90</td>\n",
              "      <td>3</td>\n",
              "      <td>57</td>\n",
              "      <td>83</td>\n",
              "      <td>3.0</td>\n",
              "    </tr>\n",
              "    <tr>\n",
              "      <th>97</th>\n",
              "      <td>19</td>\n",
              "      <td>11</td>\n",
              "      <td>2</td>\n",
              "      <td>18</td>\n",
              "      <td>71</td>\n",
              "      <td>2.0</td>\n",
              "    </tr>\n",
              "    <tr>\n",
              "      <th>199</th>\n",
              "      <td>39</td>\n",
              "      <td>86</td>\n",
              "      <td>3</td>\n",
              "      <td>38</td>\n",
              "      <td>1</td>\n",
              "      <td>3.0</td>\n",
              "    </tr>\n",
              "    <tr>\n",
              "      <th>...</th>\n",
              "      <td>...</td>\n",
              "      <td>...</td>\n",
              "      <td>...</td>\n",
              "      <td>...</td>\n",
              "      <td>...</td>\n",
              "      <td>...</td>\n",
              "    </tr>\n",
              "    <tr>\n",
              "      <th>72</th>\n",
              "      <td>13</td>\n",
              "      <td>81</td>\n",
              "      <td>4</td>\n",
              "      <td>12</td>\n",
              "      <td>28</td>\n",
              "      <td>4.0</td>\n",
              "    </tr>\n",
              "    <tr>\n",
              "      <th>107</th>\n",
              "      <td>21</td>\n",
              "      <td>93</td>\n",
              "      <td>5</td>\n",
              "      <td>20</td>\n",
              "      <td>84</td>\n",
              "      <td>5.0</td>\n",
              "    </tr>\n",
              "    <tr>\n",
              "      <th>271</th>\n",
              "      <td>51</td>\n",
              "      <td>20</td>\n",
              "      <td>5</td>\n",
              "      <td>50</td>\n",
              "      <td>62</td>\n",
              "      <td>5.0</td>\n",
              "    </tr>\n",
              "    <tr>\n",
              "      <th>436</th>\n",
              "      <td>79</td>\n",
              "      <td>105</td>\n",
              "      <td>3</td>\n",
              "      <td>78</td>\n",
              "      <td>109</td>\n",
              "      <td>3.0</td>\n",
              "    </tr>\n",
              "    <tr>\n",
              "      <th>103</th>\n",
              "      <td>20</td>\n",
              "      <td>100</td>\n",
              "      <td>5</td>\n",
              "      <td>19</td>\n",
              "      <td>81</td>\n",
              "      <td>5.0</td>\n",
              "    </tr>\n",
              "  </tbody>\n",
              "</table>\n",
              "<p>846 rows × 6 columns</p>\n",
              "</div>\n",
              "      <button class=\"colab-df-convert\" onclick=\"convertToInteractive('df-8fab6548-10e0-420a-809e-ff5bdfe4e07a')\"\n",
              "              title=\"Convert this dataframe to an interactive table.\"\n",
              "              style=\"display:none;\">\n",
              "        \n",
              "  <svg xmlns=\"http://www.w3.org/2000/svg\" height=\"24px\"viewBox=\"0 0 24 24\"\n",
              "       width=\"24px\">\n",
              "    <path d=\"M0 0h24v24H0V0z\" fill=\"none\"/>\n",
              "    <path d=\"M18.56 5.44l.94 2.06.94-2.06 2.06-.94-2.06-.94-.94-2.06-.94 2.06-2.06.94zm-11 1L8.5 8.5l.94-2.06 2.06-.94-2.06-.94L8.5 2.5l-.94 2.06-2.06.94zm10 10l.94 2.06.94-2.06 2.06-.94-2.06-.94-.94-2.06-.94 2.06-2.06.94z\"/><path d=\"M17.41 7.96l-1.37-1.37c-.4-.4-.92-.59-1.43-.59-.52 0-1.04.2-1.43.59L10.3 9.45l-7.72 7.72c-.78.78-.78 2.05 0 2.83L4 21.41c.39.39.9.59 1.41.59.51 0 1.02-.2 1.41-.59l7.78-7.78 2.81-2.81c.8-.78.8-2.07 0-2.86zM5.41 20L4 18.59l7.72-7.72 1.47 1.35L5.41 20z\"/>\n",
              "  </svg>\n",
              "      </button>\n",
              "      \n",
              "  <style>\n",
              "    .colab-df-container {\n",
              "      display:flex;\n",
              "      flex-wrap:wrap;\n",
              "      gap: 12px;\n",
              "    }\n",
              "\n",
              "    .colab-df-convert {\n",
              "      background-color: #E8F0FE;\n",
              "      border: none;\n",
              "      border-radius: 50%;\n",
              "      cursor: pointer;\n",
              "      display: none;\n",
              "      fill: #1967D2;\n",
              "      height: 32px;\n",
              "      padding: 0 0 0 0;\n",
              "      width: 32px;\n",
              "    }\n",
              "\n",
              "    .colab-df-convert:hover {\n",
              "      background-color: #E2EBFA;\n",
              "      box-shadow: 0px 1px 2px rgba(60, 64, 67, 0.3), 0px 1px 3px 1px rgba(60, 64, 67, 0.15);\n",
              "      fill: #174EA6;\n",
              "    }\n",
              "\n",
              "    [theme=dark] .colab-df-convert {\n",
              "      background-color: #3B4455;\n",
              "      fill: #D2E3FC;\n",
              "    }\n",
              "\n",
              "    [theme=dark] .colab-df-convert:hover {\n",
              "      background-color: #434B5C;\n",
              "      box-shadow: 0px 1px 3px 1px rgba(0, 0, 0, 0.15);\n",
              "      filter: drop-shadow(0px 1px 2px rgba(0, 0, 0, 0.3));\n",
              "      fill: #FFFFFF;\n",
              "    }\n",
              "  </style>\n",
              "\n",
              "      <script>\n",
              "        const buttonEl =\n",
              "          document.querySelector('#df-8fab6548-10e0-420a-809e-ff5bdfe4e07a button.colab-df-convert');\n",
              "        buttonEl.style.display =\n",
              "          google.colab.kernel.accessAllowed ? 'block' : 'none';\n",
              "\n",
              "        async function convertToInteractive(key) {\n",
              "          const element = document.querySelector('#df-8fab6548-10e0-420a-809e-ff5bdfe4e07a');\n",
              "          const dataTable =\n",
              "            await google.colab.kernel.invokeFunction('convertToInteractive',\n",
              "                                                     [key], {});\n",
              "          if (!dataTable) return;\n",
              "\n",
              "          const docLinkHtml = 'Like what you see? Visit the ' +\n",
              "            '<a target=\"_blank\" href=https://colab.research.google.com/notebooks/data_table.ipynb>data table notebook</a>'\n",
              "            + ' to learn more about interactive tables.';\n",
              "          element.innerHTML = '';\n",
              "          dataTable['output_type'] = 'display_data';\n",
              "          await google.colab.output.renderOutput(dataTable, element);\n",
              "          const docLink = document.createElement('div');\n",
              "          docLink.innerHTML = docLinkHtml;\n",
              "          element.appendChild(docLink);\n",
              "        }\n",
              "      </script>\n",
              "    </div>\n",
              "  </div>\n",
              "  "
            ]
          },
          "metadata": {},
          "execution_count": 16
        }
      ]
    },
    {
      "cell_type": "code",
      "source": [
        "x = eco_rating[['user', 'place']].values\n",
        "y = eco_rating['rating'].apply(lambda x: (\n",
        "    x - min_rating) / (max_rating - min_rating)).values\n",
        "\n",
        "train_data = int(0.8 * eco_rating.shape[0])\n",
        "x_train, x_val, y_train, y_val = (\n",
        "    x[:train_data],\n",
        "    x[train_data:],\n",
        "    y[:train_data],\n",
        "    y[train_data:]\n",
        ")\n",
        "\n",
        "print(x, y)"
      ],
      "metadata": {
        "colab": {
          "base_uri": "https://localhost:8080/"
        },
        "id": "wzD_JndyvUZZ",
        "outputId": "29280338-6802-439f-99ab-ec95b7a01e6c"
      },
      "execution_count": null,
      "outputs": [
        {
          "output_type": "stream",
          "name": "stdout",
          "text": [
            "[[  6  23]\n",
            " [ 47 128]\n",
            " [ 57  83]\n",
            " ...\n",
            " [ 50  62]\n",
            " [ 78 109]\n",
            " [ 19  81]] [0.66666667 0.66666667 0.33333333 0.         0.33333333 0.33333333\n",
            " 0.33333333 0.         0.33333333 0.66666667 1.         0.66666667\n",
            " 0.         1.         0.66666667 0.33333333 0.66666667 0.66666667\n",
            " 0.33333333 0.66666667 0.66666667 0.66666667 0.66666667 0.33333333\n",
            " 0.         0.33333333 0.66666667 0.         0.66666667 0.\n",
            " 0.66666667 0.66666667 0.66666667 0.         0.66666667 0.66666667\n",
            " 0.66666667 0.66666667 0.66666667 0.66666667 0.66666667 1.\n",
            " 0.         0.         0.33333333 0.33333333 0.66666667 0.\n",
            " 0.66666667 0.66666667 0.         0.33333333 0.66666667 0.33333333\n",
            " 0.33333333 0.         0.33333333 0.         0.33333333 0.66666667\n",
            " 0.33333333 0.33333333 0.66666667 0.         0.33333333 0.66666667\n",
            " 0.33333333 0.66666667 0.33333333 0.66666667 1.         0.66666667\n",
            " 0.66666667 0.33333333 0.66666667 1.         0.33333333 1.\n",
            " 0.33333333 1.         0.33333333 0.         0.66666667 0.33333333\n",
            " 0.66666667 0.33333333 0.33333333 1.         0.66666667 1.\n",
            " 0.         0.66666667 0.33333333 1.         0.66666667 0.66666667\n",
            " 0.66666667 0.66666667 0.66666667 0.33333333 0.         0.\n",
            " 0.         0.33333333 0.66666667 1.         0.66666667 0.33333333\n",
            " 0.66666667 1.         0.         0.33333333 0.66666667 0.33333333\n",
            " 1.         1.         0.         0.         0.33333333 0.33333333\n",
            " 0.33333333 1.         0.33333333 0.         1.         0.33333333\n",
            " 0.33333333 0.33333333 0.66666667 1.         0.66666667 1.\n",
            " 0.33333333 0.33333333 0.66666667 0.         0.66666667 0.66666667\n",
            " 0.33333333 1.         0.         1.         0.         0.33333333\n",
            " 0.         0.66666667 0.33333333 1.         0.33333333 0.33333333\n",
            " 0.33333333 0.66666667 0.         0.66666667 0.66666667 0.\n",
            " 0.33333333 0.66666667 0.66666667 0.66666667 0.66666667 1.\n",
            " 0.33333333 1.         1.         0.33333333 0.66666667 1.\n",
            " 1.         0.         0.         0.         0.33333333 1.\n",
            " 0.33333333 1.         0.33333333 1.         0.66666667 0.33333333\n",
            " 0.         0.33333333 0.33333333 1.         0.         0.\n",
            " 0.         0.66666667 0.66666667 0.33333333 0.         0.66666667\n",
            " 1.         0.33333333 0.66666667 0.66666667 0.33333333 0.66666667\n",
            " 0.66666667 0.66666667 0.33333333 0.33333333 0.66666667 0.33333333\n",
            " 0.         0.66666667 0.33333333 0.66666667 0.33333333 0.33333333\n",
            " 1.         0.66666667 0.         0.66666667 0.66666667 0.66666667\n",
            " 0.66666667 0.66666667 0.66666667 0.33333333 0.33333333 0.33333333\n",
            " 0.         0.         0.33333333 1.         0.66666667 1.\n",
            " 0.33333333 0.         0.33333333 0.33333333 0.33333333 0.33333333\n",
            " 0.66666667 0.33333333 0.33333333 0.66666667 0.33333333 0.66666667\n",
            " 0.33333333 0.66666667 0.33333333 0.33333333 0.         0.33333333\n",
            " 0.66666667 0.66666667 0.33333333 1.         0.66666667 0.66666667\n",
            " 0.33333333 0.33333333 0.33333333 0.66666667 0.         0.66666667\n",
            " 0.33333333 0.33333333 1.         0.66666667 0.66666667 0.66666667\n",
            " 0.33333333 1.         0.33333333 0.33333333 1.         0.66666667\n",
            " 0.66666667 0.33333333 0.66666667 0.33333333 0.33333333 0.33333333\n",
            " 0.33333333 0.66666667 0.66666667 1.         0.33333333 0.66666667\n",
            " 0.         0.33333333 0.33333333 0.         0.33333333 1.\n",
            " 0.33333333 0.         0.66666667 0.66666667 1.         0.33333333\n",
            " 1.         0.66666667 1.         1.         1.         0.66666667\n",
            " 0.66666667 0.33333333 0.         0.33333333 0.         1.\n",
            " 0.33333333 0.33333333 0.         0.33333333 1.         1.\n",
            " 0.66666667 1.         0.33333333 0.         1.         0.66666667\n",
            " 0.         0.66666667 1.         0.66666667 0.33333333 0.66666667\n",
            " 0.66666667 0.33333333 0.66666667 1.         0.         0.33333333\n",
            " 0.         0.33333333 0.66666667 0.         0.         0.66666667\n",
            " 0.66666667 0.66666667 0.33333333 0.33333333 0.33333333 0.33333333\n",
            " 1.         0.         0.33333333 0.66666667 0.33333333 0.66666667\n",
            " 0.66666667 1.         0.33333333 0.         0.66666667 0.66666667\n",
            " 0.33333333 0.33333333 0.33333333 1.         0.66666667 0.33333333\n",
            " 0.33333333 0.         1.         0.66666667 0.33333333 1.\n",
            " 0.66666667 0.66666667 0.33333333 0.33333333 1.         0.66666667\n",
            " 0.66666667 0.66666667 0.66666667 0.         0.         1.\n",
            " 1.         0.66666667 0.66666667 0.         1.         0.66666667\n",
            " 0.66666667 0.66666667 0.66666667 1.         0.33333333 0.66666667\n",
            " 0.66666667 1.         0.66666667 1.         0.66666667 0.66666667\n",
            " 0.66666667 1.         0.33333333 0.33333333 0.         0.33333333\n",
            " 0.         0.33333333 0.66666667 0.         0.         0.\n",
            " 0.         0.66666667 0.33333333 0.         0.66666667 0.66666667\n",
            " 0.33333333 1.         0.33333333 0.         0.         0.66666667\n",
            " 0.         0.         0.33333333 0.66666667 0.66666667 1.\n",
            " 0.66666667 0.33333333 0.         0.33333333 1.         0.66666667\n",
            " 0.         0.66666667 0.33333333 1.         0.33333333 1.\n",
            " 0.33333333 0.66666667 0.33333333 0.         0.66666667 0.\n",
            " 0.33333333 0.33333333 0.66666667 0.         1.         0.33333333\n",
            " 0.33333333 0.33333333 0.66666667 0.33333333 0.33333333 0.66666667\n",
            " 0.66666667 1.         0.66666667 1.         0.66666667 0.33333333\n",
            " 0.66666667 1.         0.33333333 0.66666667 0.66666667 0.\n",
            " 0.66666667 0.33333333 0.66666667 0.33333333 0.33333333 1.\n",
            " 0.33333333 0.         0.33333333 0.33333333 0.33333333 0.66666667\n",
            " 0.66666667 1.         0.33333333 0.66666667 0.33333333 0.\n",
            " 0.33333333 1.         0.33333333 0.         0.66666667 0.33333333\n",
            " 0.66666667 0.         1.         1.         1.         0.66666667\n",
            " 0.         0.66666667 0.33333333 0.66666667 0.66666667 0.66666667\n",
            " 0.33333333 1.         0.33333333 0.66666667 0.         1.\n",
            " 0.66666667 0.33333333 0.         0.66666667 0.66666667 0.\n",
            " 0.33333333 0.33333333 0.66666667 0.66666667 0.33333333 1.\n",
            " 0.33333333 0.33333333 0.         0.66666667 1.         1.\n",
            " 0.33333333 0.66666667 0.66666667 1.         0.33333333 0.33333333\n",
            " 0.33333333 1.         0.66666667 1.         0.33333333 1.\n",
            " 0.33333333 0.66666667 0.33333333 0.33333333 0.         1.\n",
            " 0.33333333 0.66666667 0.66666667 0.33333333 0.33333333 0.66666667\n",
            " 0.66666667 1.         0.33333333 0.33333333 0.33333333 0.33333333\n",
            " 0.         0.66666667 0.33333333 0.66666667 0.66666667 0.66666667\n",
            " 0.33333333 0.         0.         0.33333333 0.33333333 0.66666667\n",
            " 0.33333333 0.         1.         0.33333333 0.33333333 0.66666667\n",
            " 1.         0.66666667 0.33333333 0.33333333 0.66666667 0.66666667\n",
            " 0.66666667 0.33333333 0.66666667 0.33333333 0.66666667 0.33333333\n",
            " 1.         0.66666667 0.66666667 0.         0.66666667 0.\n",
            " 0.         0.33333333 0.66666667 1.         0.66666667 0.\n",
            " 0.33333333 0.33333333 0.66666667 0.66666667 1.         0.33333333\n",
            " 0.66666667 0.         0.66666667 0.         0.66666667 1.\n",
            " 0.         0.66666667 1.         0.         0.66666667 0.33333333\n",
            " 1.         0.66666667 0.66666667 0.66666667 0.66666667 0.\n",
            " 0.33333333 0.         0.66666667 0.66666667 0.66666667 0.33333333\n",
            " 0.33333333 1.         0.33333333 0.         0.33333333 0.66666667\n",
            " 0.66666667 0.         1.         0.33333333 0.66666667 0.33333333\n",
            " 0.66666667 0.66666667 0.33333333 0.         0.66666667 0.66666667\n",
            " 0.66666667 0.66666667 0.33333333 0.33333333 1.         0.33333333\n",
            " 0.         0.33333333 0.33333333 1.         0.         0.66666667\n",
            " 0.33333333 0.33333333 0.33333333 1.         0.66666667 1.\n",
            " 0.66666667 0.         0.66666667 1.         1.         0.33333333\n",
            " 0.33333333 0.33333333 0.66666667 0.33333333 1.         0.66666667\n",
            " 0.         1.         0.66666667 0.66666667 0.66666667 0.\n",
            " 0.         0.33333333 0.         0.66666667 1.         0.66666667\n",
            " 1.         0.66666667 0.33333333 0.33333333 0.33333333 0.33333333\n",
            " 0.         0.66666667 0.33333333 1.         0.66666667 0.66666667\n",
            " 1.         0.66666667 0.         0.66666667 0.33333333 0.33333333\n",
            " 0.         0.66666667 0.         0.         0.66666667 0.66666667\n",
            " 0.         0.66666667 0.33333333 0.66666667 0.33333333 0.66666667\n",
            " 1.         0.33333333 0.         0.         0.33333333 0.66666667\n",
            " 1.         0.66666667 0.33333333 0.66666667 0.66666667 0.66666667\n",
            " 0.66666667 0.33333333 0.66666667 0.33333333 1.         1.\n",
            " 0.         0.66666667 0.66666667 0.         1.         0.\n",
            " 1.         1.         0.         0.33333333 0.66666667 0.66666667\n",
            " 0.66666667 0.33333333 1.         0.66666667 0.33333333 1.\n",
            " 0.66666667 0.33333333 1.         0.66666667 0.         0.\n",
            " 0.33333333 0.66666667 0.33333333 0.66666667 0.33333333 0.66666667\n",
            " 0.         1.         0.         0.66666667 1.         0.\n",
            " 0.66666667 1.         0.33333333 1.         1.         0.66666667\n",
            " 0.33333333 0.66666667 0.33333333 0.33333333 0.         0.66666667\n",
            " 0.         0.66666667 0.66666667 0.33333333 0.33333333 0.\n",
            " 0.66666667 0.33333333 0.66666667 0.66666667 0.33333333 0.66666667\n",
            " 0.66666667 0.66666667 0.33333333 0.66666667 0.33333333 0.66666667\n",
            " 1.         0.66666667 0.66666667 0.33333333 0.66666667 0.\n",
            " 0.33333333 0.33333333 0.33333333 0.33333333 0.33333333 0.33333333\n",
            " 1.         0.66666667 0.66666667 0.66666667 0.         0.33333333\n",
            " 1.         0.66666667 0.         0.66666667 0.33333333 0.\n",
            " 0.66666667 0.33333333 0.66666667 0.33333333 0.         1.\n",
            " 0.33333333 0.33333333 0.33333333 0.66666667 0.         0.66666667\n",
            " 0.66666667 0.66666667 1.         1.         0.33333333 1.        ]\n"
          ]
        }
      ]
    },
    {
      "cell_type": "markdown",
      "source": [
        "### 4.3. Model Development"
      ],
      "metadata": {
        "id": "5CGWGSIivfEQ"
      }
    },
    {
      "cell_type": "code",
      "source": [
        "import tensorflow as tf\n",
        "from tensorflow.keras import layers\n",
        "from tensorflow.keras.models import Sequential\n",
        "from tensorflow import keras\n",
        "\n",
        "class RecommenderNet(tf.keras.Model):\n",
        "  def __init__(self, num_users, num_places, embedding_size, **kwargs):\n",
        "    super(RecommenderNet, self).__init__(**kwargs)\n",
        "    self.num_users = num_users\n",
        "    self.num_places = num_places\n",
        "    self.embedding_size = embedding_size\n",
        "    self.user_embedding = layers.Embedding(\n",
        "        num_users,\n",
        "        embedding_size,\n",
        "        embeddings_initializer = 'he_normal',\n",
        "        embeddings_regularizer = keras.regularizers.l2(1e-8)\n",
        "    )\n",
        "    self.user_bias = layers.Embedding(num_users, 1)\n",
        "    self.place_embedding = layers.Embedding(\n",
        "        num_places,\n",
        "        embedding_size,\n",
        "        embeddings_initializer = 'he_normal',\n",
        "        embeddings_regularizer = keras.regularizers.l2(1e-8)\n",
        "    )\n",
        "    self.place_bias = layers.Embedding(num_places, 1)\n",
        "    \n",
        "  def call(self, inputs):\n",
        "    vector_users = self.user_embedding(inputs[:,0])\n",
        "    user_bias = self.user_bias(inputs[:, 0])\n",
        "    vector_places = self.place_embedding(inputs[:, 1])\n",
        "    place_bias = self.place_bias(inputs[:, 1])\n",
        "    \n",
        "    dot_user_place = tf.tensordot(vector_users, vector_places, 2) \n",
        "    \n",
        "    x = dot_user_place + user_bias + place_bias\n",
        "    \n",
        "    return tf.nn.sigmoid(x)"
      ],
      "metadata": {
        "id": "CwbsnpevvcvS"
      },
      "execution_count": null,
      "outputs": []
    },
    {
      "cell_type": "code",
      "source": [
        "model = RecommenderNet(num_users, num_places, 16)\n",
        "\n",
        "model.compile(\n",
        "    loss=tf.keras.losses.MeanSquaredError(),\n",
        "    optimizer=tf.keras.optimizers.Adam(learning_rate=0.0001),\n",
        "    metrics=[tf.keras.metrics.RootMeanSquaredError()]\n",
        ")"
      ],
      "metadata": {
        "id": "2uL_dqbFvspB"
      },
      "execution_count": null,
      "outputs": []
    },
    {
      "cell_type": "code",
      "source": [
        "model.build(input_shape = (None, 182,182,3))\n",
        "model.summary()"
      ],
      "metadata": {
        "id": "cMxjEgb5vuw1",
        "outputId": "0d358fd1-bc0d-409f-ae45-0401d7c1823e",
        "colab": {
          "base_uri": "https://localhost:8080/"
        }
      },
      "execution_count": null,
      "outputs": [
        {
          "output_type": "stream",
          "name": "stdout",
          "text": [
            "Model: \"recommender_net_2\"\n",
            "_________________________________________________________________\n",
            " Layer (type)                Output Shape              Param #   \n",
            "=================================================================\n",
            " embedding_8 (Embedding)     multiple                  2496      \n",
            "                                                                 \n",
            " embedding_9 (Embedding)     multiple                  156       \n",
            "                                                                 \n",
            " embedding_10 (Embedding)    multiple                  2912      \n",
            "                                                                 \n",
            " embedding_11 (Embedding)    multiple                  182       \n",
            "                                                                 \n",
            "=================================================================\n",
            "Total params: 5,746\n",
            "Trainable params: 5,746\n",
            "Non-trainable params: 0\n",
            "_________________________________________________________________\n"
          ]
        }
      ]
    },
    {
      "cell_type": "code",
      "source": [
        "from keras.callbacks import EarlyStopping\n",
        "\n",
        "callbacks = EarlyStopping(\n",
        "    min_delta=0.0001,\n",
        "    patience=5,\n",
        "    restore_best_weights=True,\n",
        ")"
      ],
      "metadata": {
        "id": "cQkE2eXAv-Qe"
      },
      "execution_count": null,
      "outputs": []
    },
    {
      "cell_type": "code",
      "source": [
        "history = model.fit(\n",
        "    x=x_train,\n",
        "    y=y_train,\n",
        "    batch_size=5,\n",
        "    epochs=50,\n",
        "    validation_data=(x_val, y_val),\n",
        "    callbacks = [callbacks]\n",
        ")"
      ],
      "metadata": {
        "colab": {
          "base_uri": "https://localhost:8080/"
        },
        "id": "vjU959jywA-8",
        "outputId": "62ab5f50-8256-45fe-bb5d-621d4909994d"
      },
      "execution_count": null,
      "outputs": [
        {
          "output_type": "stream",
          "name": "stdout",
          "text": [
            "Epoch 1/50\n",
            "136/136 [==============================] - 1s 3ms/step - loss: 0.0987 - root_mean_squared_error: 0.3141 - val_loss: 0.1049 - val_root_mean_squared_error: 0.3239\n",
            "Epoch 2/50\n",
            "136/136 [==============================] - 0s 2ms/step - loss: 0.0981 - root_mean_squared_error: 0.3132 - val_loss: 0.1049 - val_root_mean_squared_error: 0.3239\n",
            "Epoch 3/50\n",
            "136/136 [==============================] - 0s 2ms/step - loss: 0.0982 - root_mean_squared_error: 0.3133 - val_loss: 0.1049 - val_root_mean_squared_error: 0.3239\n",
            "Epoch 4/50\n",
            "136/136 [==============================] - 0s 2ms/step - loss: 0.0982 - root_mean_squared_error: 0.3133 - val_loss: 0.1049 - val_root_mean_squared_error: 0.3239\n",
            "Epoch 5/50\n",
            "136/136 [==============================] - 0s 2ms/step - loss: 0.0972 - root_mean_squared_error: 0.3117 - val_loss: 0.1049 - val_root_mean_squared_error: 0.3239\n",
            "Epoch 6/50\n",
            "136/136 [==============================] - 0s 2ms/step - loss: 0.0974 - root_mean_squared_error: 0.3121 - val_loss: 0.1049 - val_root_mean_squared_error: 0.3239\n"
          ]
        }
      ]
    },
    {
      "cell_type": "code",
      "source": [
        "model.evaluate(x_val, y_val)"
      ],
      "metadata": {
        "colab": {
          "base_uri": "https://localhost:8080/"
        },
        "id": "pioASoWDoPbO",
        "outputId": "d8d02481-907a-4d5a-dc0d-9b7f7e151245"
      },
      "execution_count": null,
      "outputs": [
        {
          "output_type": "stream",
          "name": "stdout",
          "text": [
            "6/6 [==============================] - 0s 2ms/step - loss: 0.1096 - root_mean_squared_error: 0.3311\n"
          ]
        },
        {
          "output_type": "execute_result",
          "data": {
            "text/plain": [
              "[0.10959891974925995, 0.3310563266277313]"
            ]
          },
          "metadata": {},
          "execution_count": 33
        }
      ]
    },
    {
      "cell_type": "code",
      "source": [
        "pip install matplotlib"
      ],
      "metadata": {
        "colab": {
          "base_uri": "https://localhost:8080/"
        },
        "id": "u-ILeNfKwG-m",
        "outputId": "20ef32ed-8ef6-47e1-eb86-42adbd66c075"
      },
      "execution_count": null,
      "outputs": [
        {
          "output_type": "stream",
          "name": "stdout",
          "text": [
            "Looking in indexes: https://pypi.org/simple, https://us-python.pkg.dev/colab-wheels/public/simple/\n",
            "Requirement already satisfied: matplotlib in /usr/local/lib/python3.10/dist-packages (3.7.1)\n",
            "Requirement already satisfied: contourpy>=1.0.1 in /usr/local/lib/python3.10/dist-packages (from matplotlib) (1.0.7)\n",
            "Requirement already satisfied: cycler>=0.10 in /usr/local/lib/python3.10/dist-packages (from matplotlib) (0.11.0)\n",
            "Requirement already satisfied: fonttools>=4.22.0 in /usr/local/lib/python3.10/dist-packages (from matplotlib) (4.39.3)\n",
            "Requirement already satisfied: kiwisolver>=1.0.1 in /usr/local/lib/python3.10/dist-packages (from matplotlib) (1.4.4)\n",
            "Requirement already satisfied: numpy>=1.20 in /usr/local/lib/python3.10/dist-packages (from matplotlib) (1.22.4)\n",
            "Requirement already satisfied: packaging>=20.0 in /usr/local/lib/python3.10/dist-packages (from matplotlib) (23.1)\n",
            "Requirement already satisfied: pillow>=6.2.0 in /usr/local/lib/python3.10/dist-packages (from matplotlib) (8.4.0)\n",
            "Requirement already satisfied: pyparsing>=2.3.1 in /usr/local/lib/python3.10/dist-packages (from matplotlib) (3.0.9)\n",
            "Requirement already satisfied: python-dateutil>=2.7 in /usr/local/lib/python3.10/dist-packages (from matplotlib) (2.8.2)\n",
            "Requirement already satisfied: six>=1.5 in /usr/local/lib/python3.10/dist-packages (from python-dateutil>=2.7->matplotlib) (1.16.0)\n"
          ]
        }
      ]
    },
    {
      "cell_type": "code",
      "source": [
        "import matplotlib.pyplot as plt\n",
        "plt.plot(history.history['root_mean_squared_error'])\n",
        "plt.plot(history.history['val_root_mean_squared_error'])\n",
        "plt.title('Error of Model')\n",
        "plt.ylabel('Root Mean Squared Error')\n",
        "plt.xlabel('Epoch')\n",
        "plt.legend(['train', 'test'], loc='upper left')\n",
        "plt.ylim(0.1,0.4)\n",
        "plt.show()"
      ],
      "metadata": {
        "colab": {
          "base_uri": "https://localhost:8080/",
          "height": 472
        },
        "id": "3oBGEeRMwKfk",
        "outputId": "d7cdfd0a-cbf5-48e4-8f86-f070fbf8412c"
      },
      "execution_count": null,
      "outputs": [
        {
          "output_type": "display_data",
          "data": {
            "text/plain": [
              "<Figure size 640x480 with 1 Axes>"
            ],
            "image/png": "[encoded data removed]"
          },
          "metadata": {}
        }
      ]
    },
    {
      "cell_type": "code",
      "source": [
        "plt.plot(history.history['loss'])\n",
        "plt.plot(history.history['val_loss'])\n",
        "plt.title('Loss of Model')\n",
        "plt.ylabel('loss')\n",
        "plt.xlabel('epoch')\n",
        "plt.legend(['train', 'test'], loc='upper left')\n",
        "plt.ylim(0,0.2)\n",
        "plt.show()"
      ],
      "metadata": {
        "colab": {
          "base_uri": "https://localhost:8080/",
          "height": 472
        },
        "id": "_yHQ4bdnwPo-",
        "outputId": "dd50cf87-69b2-4482-9848-6ae4d59504af"
      },
      "execution_count": null,
      "outputs": [
        {
          "output_type": "display_data",
          "data": {
            "text/plain": [
              "<Figure size 640x480 with 1 Axes>"
            ],
            "image/png": "[encoded data removed]"
          },
          "metadata": {}
        }
      ]
    },
    {
      "cell_type": "code",
      "source": [
        "model.save('model_saved', save_format = 'tf')"
      ],
      "metadata": {
        "id": "t0ZywhqYTJLq",
        "colab": {
          "base_uri": "https://localhost:8080/"
        },
        "outputId": "096444e9-d350-4ccf-97aa-b708aab15374"
      },
      "execution_count": null,
      "outputs": [
        {
          "output_type": "stream",
          "name": "stderr",
          "text": [
            "WARNING:absl:Found untraced functions such as _update_step_xla while saving (showing 1 of 1). These functions will not be directly callable after loading.\n"
          ]
        }
      ]
    },
    {
      "cell_type": "markdown",
      "source": [
        "## 4.4. Recomendation Testing"
      ],
      "metadata": {
        "id": "-gM093Mi_u3d"
      }
    },
    {
      "cell_type": "code",
      "source": [
        "df_places = eco_place\n",
        "df_ratings = eco_rating"
      ],
      "metadata": {
        "id": "TFC__PrewVDx"
      },
      "execution_count": null,
      "outputs": []
    },
    {
      "cell_type": "code",
      "source": [
        "user_id = df_ratings.user_id.sample(1).iloc[0]\n",
        "place_rated = df_ratings[df_ratings.user_id == user_id]\n",
        "\n",
        "place_not_rated = df_places[~df_places['place_id'].isin(\n",
        "    place_rated.place_id.values)]['place_id']\n",
        "place_not_rated = list(\n",
        "    set(place_not_rated).intersection(set(place_to_num_encoded.keys()))\n",
        ")\n",
        "\n",
        "place_not_rated = [\n",
        "    [place_to_num_encoded.get(x)] for x in place_not_rated]\n",
        "user_encoder = user_to_num_encoded.get(user_id)\n",
        "user_place_array = np.hstack(\n",
        "    ([[user_encoder]] * len(place_not_rated), place_not_rated)\n",
        ")"
      ],
      "metadata": {
        "id": "E9yzox-l_2xm"
      },
      "execution_count": null,
      "outputs": []
    },
    {
      "cell_type": "code",
      "source": [
        "ratings = model.predict(user_place_array).flatten()\n",
        "\n",
        "top_ratings_indices = ratings.argsort()[-10:][::-1]\n",
        "recommended_place_ids = [\n",
        "    num_encoded_to_place.get(place_not_rated[x][0]) for x in top_ratings_indices\n",
        "]\n",
        "\n",
        "print('Recommendations for user: {}'.format(user_id))\n",
        "print('=====' * 8)\n",
        "print('Place with high ratings from user')\n",
        "print('-----' * 8)\n",
        "\n",
        "top_place_user = (\n",
        "    place_rated.sort_values(\n",
        "        by = 'rating',\n",
        "        ascending=False\n",
        "    )\n",
        "    .head(5)\n",
        "    .place_id.values\n",
        ")\n",
        "\n",
        "rows_df_places = df_places[df_places['place_id'].isin(top_place_user)]\n",
        "for row in rows_df_places.itertuples():\n",
        "    print(row.place_name + ':', row.category)\n",
        "\n",
        "print('-----' * 8)\n",
        "print('Top 10 recommended places')\n",
        "print('-----' * 8)\n",
        "\n",
        "recommended_places = df_places[df_places['place_id'].isin(recommended_place_ids)]\n",
        "for row in recommended_places.itertuples():\n",
        "    print(row.place_name + ':', row.category)"
      ],
      "metadata": {
        "colab": {
          "base_uri": "https://localhost:8080/"
        },
        "id": "iat68X28Bujr",
        "outputId": "426da425-83a5-4987-d284-51be6ca6944c"
      },
      "execution_count": null,
      "outputs": [
        {
          "output_type": "stream",
          "name": "stdout",
          "text": [
            "6/6 [==============================] - 0s 4ms/step\n",
            "Recommendations for user: 122\n",
            "========================================\n",
            "Place with high ratings from user\n",
            "----------------------------------------\n",
            "Sungai Palayangan: Cagar Alam\n",
            "Taman Wisata Alam Gunung Pancar: Cagar Alam\n",
            "Taman Nasional Meru Betiri: Budaya,Cagar Alam,Taman Nasional\n",
            "Desa Wisata Sungai Code Jogja Kota: Budaya,Taman Hiburan\n",
            "Pantai Sadranan: Bahari,Cagar Alam\n",
            "----------------------------------------\n",
            "Top 10 recommended places\n",
            "----------------------------------------\n",
            "Pantai Samas : Bahari,Cagar Alam\n",
            "Pantai Sedahan: Bahari,Cagar Alam\n",
            "Pantai Siung: Bahari,Cagar Alam\n",
            "Pantai Timang: Bahari,Cagar Alam\n",
            "Pantai Wediombo: Bahari,Cagar Alam\n",
            "Puncak Kebun Buah Mangunan: Cagar Alam,Taman Hiburan\n",
            "Seribu Batu Songgo Langit: Budaya,Cagar Alam\n",
            "Studio Alam Gamplong: Taman Hiburan\n",
            "Watu Goyang: Budaya,Cagar Alam\n",
            "Watu Lumbung: Cagar Alam\n"
          ]
        }
      ]
    },
    {
      "cell_type": "code",
      "source": [
        "def recommend_places(user_id, model, df_ratings, df_places, user_to_num_encoded, num_encoded_to_place, place_to_num_encoded):\n",
        "    place_rated = df_ratings[df_ratings.user_id == user_id]\n",
        "    \n",
        "    place_not_rated = df_places[~df_places['place_id'].isin(place_rated.place_id.values)]['place_id']\n",
        "    place_not_rated = list(set(place_not_rated).intersection(set(place_to_num_encoded.keys())))\n",
        "    \n",
        "    place_not_rated = [[place_to_num_encoded.get(x)] for x in place_not_rated]\n",
        "    user_encoder = user_to_num_encoded.get(user_id)\n",
        "    user_place_array = np.hstack(([[user_encoder]] * len(place_not_rated), place_not_rated))\n",
        "    \n",
        "    ratings = model.predict(user_place_array).flatten()\n",
        "    \n",
        "    top_ratings_indices = ratings.argsort()[-10:][::-1]\n",
        "    recommended_place_ids = [num_encoded_to_place.get(place_not_rated[x][0]) for x in top_ratings_indices]\n",
        "    \n",
        "    print('Recommendations for user: {}'.format(user_id))\n",
        "    print('=====' * 13)\n",
        "    print('Place with high ratings from user')\n",
        "    print('-----' * 13)\n",
        "    \n",
        "    top_place_user = (place_rated.sort_values(by='rating', ascending=False)\n",
        "                      .head(5)\n",
        "                      .place_id.values)\n",
        "    \n",
        "    rows_df_places = df_places[df_places['place_id'].isin(top_place_user)]\n",
        "    for row in rows_df_places.itertuples():\n",
        "        print(row.place_name + ':', row.category)\n",
        "    \n",
        "    print('-----' * 13)\n",
        "    print('Top 10 recommended places')\n",
        "    print('-----' * 13)\n",
        "    \n",
        "    recommended_places = df_places[df_places['place_id'].isin(recommended_place_ids)]\n",
        "    for row in recommended_places.itertuples():\n",
        "        print(row.place_name + ':', row.category)\n"
      ],
      "metadata": {
        "id": "I1vascc3TBXb"
      },
      "execution_count": null,
      "outputs": []
    },
    {
      "cell_type": "code",
      "source": [
        "recommend_places(df_ratings.user_id.sample(1).iloc[0], model, df_ratings, df_places, user_to_num_encoded, num_encoded_to_place, place_to_num_encoded)\n"
      ],
      "metadata": {
        "colab": {
          "base_uri": "https://localhost:8080/"
        },
        "id": "RTaKIeSG3SEZ",
        "outputId": "fcbe8b52-00c1-4773-c930-5db0d9d3db4f"
      },
      "execution_count": null,
      "outputs": [
        {
          "output_type": "stream",
          "name": "stdout",
          "text": [
            "6/6 [==============================] - 0s 2ms/step\n",
            "Recommendations for user: 72\n",
            "=================================================================\n",
            "Place with high ratings from user\n",
            "-----------------------------------------------------------------\n",
            "Taman Kupu-Kupu Cihanjuang: Budaya,Cagar Alam\n",
            "Candi Gedong Songo: Budaya\n",
            "Goa Cerme: Budaya,Cagar Alam\n",
            "Pantai Greweng: Bahari,Cagar Alam\n",
            "Pantai Watu Kodok: Bahari,Cagar Alam\n",
            "-----------------------------------------------------------------\n",
            "Top 10 recommended places\n",
            "-----------------------------------------------------------------\n",
            "Taman Nasional Kutai: Cagar Alam,Taman Nasional\n",
            "Air Terjun Semirang: Cagar Alam\n",
            "Desa Wisata Lembah Kalipancur: Desa Wisata,Taman Hiburan\n",
            "Durian Gardens and Tourism Education Watu Simbar: Budaya,Cagar Alam\n",
            "Goa Rong: Budaya,Cagar Alam\n",
            "Kampoeng Rawa: Cagar Alam\n",
            "Waduk Jatibarang Mijen: Cagar Alam\n",
            "Wisata Mangrove Tapak: Budaya,Cagar Alam\n",
            "Taman Nasional Kerinci Seblat: Taman Nasional,Cagar Alam\n",
            "Danau Toba: Budaya,Cagar Alam,Desa Wisata\n"
          ]
        }
      ]
    },
    {
      "cell_type": "code",
      "source": [],
      "metadata": {
        "id": "4vMI9utt4o8z"
      },
      "execution_count": null,
      "outputs": []
    }
  ]
}